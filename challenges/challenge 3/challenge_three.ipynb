{
  "cells": [
    {
      "cell_type": "markdown",
      "id": "k-JIRqBlrumk",
      "metadata": {
        "id": "k-JIRqBlrumk"
      },
      "source": [
        "# Challenge 3: Artifical Neural Networks\n",
        "\n",
        "<a target=\"_blank\" href=\"https://colab.research.google.com/github/LucaPennella/Intro_to_ML_23-24/blob/main/challenges/challenge-three.ipynb\">\n",
        "  <img src=\"https://colab.research.google.com/assets/colab-badge.svg\" alt=\"Open In Colab\"/>\n",
        "</a>\n",
        "\n",
        "\n",
        "Using Fully Connected Neural Networks and Convolutional Neural Networks, perform the following tasks on [this data set](https://pytorch.org/vision/stable/generated/torchvision.datasets.KMNIST.html#torchvision.datasets.KMNIST).\n",
        "1. Data exploration.\n",
        "2. For each architecture, tune the number of the hidden layers ($\\le 3$), the optimizer, and some hyperparameters of your choice. How many tries to do is up to your discretion.\n",
        "3. Summarise your results in a table and comment on them in the report.\n",
        "4. For a model (not necessarily the best performing one), plot training loss vs testing loss and training accuracy vs testing accuracy, and comment on what you see."
      ]
    },
    {
      "cell_type": "code",
      "source": [
        "import torch\n",
        "from torchvision import datasets, transforms\n",
        "from torch.utils.data import DataLoader\n",
        "from torch.utils.data import ConcatDataset\n",
        "\n",
        "# Define transformation\n",
        "transform = transforms.Compose([\n",
        "    transforms.ToTensor(),\n",
        "    transforms.Normalize((0.5,), (0.5,))\n",
        "])\n",
        "\n",
        "# Load KMNIST training dataset\n",
        "train_dataset = datasets.KMNIST(root='./data', train=True, download=True, transform=transform)\n",
        "\n",
        "# Data Augmentation\n",
        "transform_augmented = transforms.Compose([\n",
        "    transforms.RandomAffine(\n",
        "        degrees=30,                  # Rotate between -30 to +30 degrees\n",
        "        translate=(0.1, 0.1),        # Translate by up to 10% in both directions\n",
        "    ),\n",
        "    transforms.ToTensor()\n",
        "])\n",
        "\n",
        "augmented_dataset = datasets.KMNIST(root='./data', train=True, download=True, transform=transform_augmented)\n",
        "\n",
        "train_dataset = ConcatDataset([train_dataset, augmented_dataset])\n",
        "\n",
        "# Load KMNIST test dataset\n",
        "test_dataset = datasets.KMNIST(root='./data', train=False, download=True, transform=transform)\n",
        "\n",
        "# Create data loaders\n",
        "train_loader = DataLoader(train_dataset, batch_size=64, shuffle=True)\n",
        "test_loader = DataLoader(test_dataset, batch_size=64, shuffle=False)\n",
        "\n",
        "# Example: Get a batch of data\n",
        "images, labels = next(iter(train_loader))\n",
        "print(f'Batch shape: {images.shape}, Labels: {labels[:10]}')\n"
      ],
      "metadata": {
        "id": "ae69bVm43Tre",
        "outputId": "57160a26-8a8d-435c-9f60-38daa04a68aa",
        "colab": {
          "base_uri": "https://localhost:8080/"
        }
      },
      "id": "ae69bVm43Tre",
      "execution_count": 2,
      "outputs": [
        {
          "output_type": "stream",
          "name": "stderr",
          "text": [
            "100%|██████████| 18.2M/18.2M [00:10<00:00, 1.81MB/s]\n",
            "100%|██████████| 29.5k/29.5k [00:00<00:00, 377kB/s]\n",
            "100%|██████████| 3.04M/3.04M [00:01<00:00, 1.78MB/s]\n",
            "100%|██████████| 5.12k/5.12k [00:00<00:00, 8.85MB/s]"
          ]
        },
        {
          "output_type": "stream",
          "name": "stdout",
          "text": [
            "Batch shape: torch.Size([64, 1, 28, 28]), Labels: tensor([0, 4, 1, 7, 6, 0, 1, 0, 9, 5])\n"
          ]
        },
        {
          "output_type": "stream",
          "name": "stderr",
          "text": [
            "\n"
          ]
        }
      ]
    },
    {
      "cell_type": "code",
      "source": [
        "from torch.utils.data import random_split\n",
        "\n",
        "full_train_dataset = train_dataset\n",
        "# Define split sizes (e.g. 90% train, 10% val)\n",
        "train_size = int(0.9 * len(full_train_dataset))\n",
        "val_size = len(full_train_dataset) - train_size\n",
        "\n",
        "# Split the dataset\n",
        "train_dataset, val_dataset = random_split(full_train_dataset, [train_size, val_size])\n",
        "\n",
        "# Create data loaders\n",
        "train_loader = DataLoader(train_dataset, batch_size=64, shuffle=True)\n",
        "val_loader = DataLoader(val_dataset, batch_size=64, shuffle=False)"
      ],
      "metadata": {
        "id": "_EASJHPp4JnB"
      },
      "id": "_EASJHPp4JnB",
      "execution_count": 3,
      "outputs": []
    },
    {
      "cell_type": "code",
      "source": [
        "import matplotlib.pyplot as plt\n",
        "\n",
        "fig, axes = plt.subplots(2, 5, figsize=(10, 4))\n",
        "head = [train_dataset[i] for i in range (10)]\n",
        "images = [h[0] for h in head]\n",
        "labels = [h[1] for h in head]\n",
        "for i, ax in enumerate(axes.flat):\n",
        "  img = images[i].squeeze(0)\n",
        "  ax.imshow(img, cmap='gray')\n",
        "  ax.set_title(f\"Label: {labels[i]}\")\n",
        "  ax.axis('off')\n",
        "plt.tight_layout()\n",
        "plt.show()"
      ],
      "metadata": {
        "id": "FdgmW7qC4kyi",
        "outputId": "a087fdbf-d988-4b00-c031-c40be6da6804",
        "colab": {
          "base_uri": "https://localhost:8080/",
          "height": 410
        }
      },
      "id": "FdgmW7qC4kyi",
      "execution_count": 4,
      "outputs": [
        {
          "output_type": "display_data",
          "data": {
            "text/plain": [
              "<Figure size 1000x400 with 10 Axes>"
            ],
            "image/png": "[encoded data removed]"
          },
          "metadata": {}
        }
      ]
    },
    {
      "cell_type": "code",
      "source": [
        "# Set device\n",
        "device = torch.device('cuda' if torch.cuda.is_available() else 'cpu')"
      ],
      "metadata": {
        "id": "DU7-8I317vqb"
      },
      "id": "DU7-8I317vqb",
      "execution_count": 5,
      "outputs": []
    },
    {
      "cell_type": "code",
      "source": [
        "import torch.nn as nn\n",
        "import torch.optim as optim"
      ],
      "metadata": {
        "id": "IbzVfHIv7_ud"
      },
      "id": "IbzVfHIv7_ud",
      "execution_count": 6,
      "outputs": []
    },
    {
      "cell_type": "markdown",
      "source": [
        "### FULLY CONNECTED ARCHITECTURE"
      ],
      "metadata": {
        "id": "Nn10qJdW-sbW"
      },
      "id": "Nn10qJdW-sbW"
    },
    {
      "cell_type": "code",
      "source": [
        "class FCNN(nn.Module):\n",
        "    def __init__(self):\n",
        "        super(FCNN, self).__init__()\n",
        "        self.flatten = nn.Flatten()\n",
        "        self.fc = nn.Sequential(\n",
        "            nn.Linear(28*28, 256),\n",
        "            nn.ReLU(),\n",
        "            nn.Linear(256, 128),\n",
        "            nn.ReLU(),\n",
        "            nn.Linear(128, 64),\n",
        "            nn.ReLU(),\n",
        "            nn.Linear(64, 10)\n",
        "        )\n",
        "\n",
        "    def forward(self, x):\n",
        "        x = self.flatten(x)\n",
        "        return self.fc(x)"
      ],
      "metadata": {
        "id": "VwH49sg12Agv"
      },
      "id": "VwH49sg12Agv",
      "execution_count": 7,
      "outputs": []
    },
    {
      "cell_type": "code",
      "source": [
        "class FCNN_dropout(nn.Module):\n",
        "    def __init__(self):\n",
        "        super(FCNN_dropout, self).__init__()\n",
        "        self.flatten = nn.Flatten()\n",
        "        self.fc = nn.Sequential(\n",
        "            nn.Linear(28*28, 256),\n",
        "            nn.ReLU(),\n",
        "            nn.Dropout(p=0.5, inplace=False),\n",
        "            nn.Linear(256, 128),\n",
        "            nn.ReLU(),\n",
        "            nn.Dropout(p=0.5, inplace=False),\n",
        "            nn.Linear(128, 64),\n",
        "            nn.ReLU(),\n",
        "            nn.Dropout(p=0.5, inplace=False),\n",
        "            nn.Linear(64, 10)\n",
        "        )\n",
        "\n",
        "    def forward(self, x):\n",
        "        x = self.flatten(x)\n",
        "        return self.fc(x)"
      ],
      "metadata": {
        "id": "uf-piqMt8Go3"
      },
      "id": "uf-piqMt8Go3",
      "execution_count": 16,
      "outputs": []
    },
    {
      "cell_type": "markdown",
      "source": [
        "### CONVOLUTIONAL ARCHITECTURE\n"
      ],
      "metadata": {
        "id": "qd0ehE-J-8Bj"
      },
      "id": "qd0ehE-J-8Bj"
    },
    {
      "cell_type": "code",
      "source": [
        "class CNN(nn.Module):\n",
        "    def __init__(self):\n",
        "        super(CNN, self).__init__()\n",
        "        self.conv_layers = nn.Sequential(\n",
        "            nn.Conv2d(1, 16, kernel_size=3, padding=1),\n",
        "            nn.ReLU(),\n",
        "            nn.MaxPool2d(2),  # 14x14\n",
        "\n",
        "            nn.Conv2d(16, 32, kernel_size=3, padding=1),\n",
        "            nn.ReLU(),\n",
        "            nn.MaxPool2d(2),  # 7x7\n",
        "\n",
        "            nn.Conv2d(32, 64, kernel_size=3, padding = 1),\n",
        "            nn.ReLU(),\n",
        "            nn.MaxPool2d(2), # 4 x 4\n",
        "        )\n",
        "        self.fc_layers = nn.Sequential(\n",
        "            nn.Flatten(),\n",
        "            nn.Linear(64 * 3 * 3, 128),\n",
        "            nn.ReLU(),\n",
        "            nn.Linear(128, 10)\n",
        "        )\n",
        "\n",
        "    def forward(self, x):\n",
        "        x = self.conv_layers(x)\n",
        "        return self.fc_layers(x)\n"
      ],
      "metadata": {
        "id": "AsdVauRU8F_j"
      },
      "id": "AsdVauRU8F_j",
      "execution_count": 9,
      "outputs": []
    },
    {
      "cell_type": "markdown",
      "source": [
        "### CONVOLUTIONAL ARCHITECTURE with DROPOUT\n",
        "\n"
      ],
      "metadata": {
        "id": "F54h4gwObPzz"
      },
      "id": "F54h4gwObPzz"
    },
    {
      "cell_type": "code",
      "source": [
        "class CNN_dropout(nn.Module):\n",
        "    def __init__(self):\n",
        "        super(CNN_dropout, self).__init__()\n",
        "        self.conv_layers = nn.Sequential(\n",
        "            nn.Conv2d(1, 16, kernel_size=3, padding=1),\n",
        "            nn.ReLU(),\n",
        "            nn.MaxPool2d(2),  # 14x14\n",
        "            nn.Dropout(0.5),\n",
        "\n",
        "            nn.Conv2d(16, 32, kernel_size=3, padding=1),\n",
        "            nn.ReLU(),\n",
        "            nn.MaxPool2d(2),  # 7x7\n",
        "            nn.Dropout(0.3),\n",
        "\n",
        "            nn.Conv2d(32, 64, kernel_size=3, padding = 1),\n",
        "            nn.ReLU(),\n",
        "            nn.MaxPool2d(2), # 4 x 4\n",
        "            nn.Dropout(0.2)\n",
        "        )\n",
        "        self.fc_layers = nn.Sequential(\n",
        "            nn.Flatten(),\n",
        "            nn.Linear(64 * 3 * 3, 128),\n",
        "            nn.ReLU(),\n",
        "            nn.Linear(128, 10)\n",
        "        )\n",
        "\n",
        "    def forward(self, x):\n",
        "        x = self.conv_layers(x)\n",
        "        return self.fc_layers(x)"
      ],
      "metadata": {
        "id": "RxOWLhANbUm3"
      },
      "id": "RxOWLhANbUm3",
      "execution_count": 10,
      "outputs": []
    },
    {
      "cell_type": "markdown",
      "source": [
        "### TRAINING CYCLE"
      ],
      "metadata": {
        "id": "bT9jQZb8_BIc"
      },
      "id": "bT9jQZb8_BIc"
    },
    {
      "cell_type": "code",
      "source": [
        "def train(model, train_loader, validation_loader, optimizer, criterion, train_data = False):\n",
        "    model.train()\n",
        "    if train_data:\n",
        "        train_total_loss, train_total_correct = 0, 0\n",
        "    for x, y in train_loader:\n",
        "        x, y = x.to(device), y.to(device)\n",
        "\n",
        "        optimizer.zero_grad()\n",
        "        output = model(x)\n",
        "        loss = criterion(output, y)\n",
        "        loss.backward()\n",
        "        optimizer.step()\n",
        "\n",
        "        if train_data:\n",
        "            train_total_loss += loss.item()\n",
        "            train_total_correct += (output.argmax(1) == y).sum().item()\n",
        "\n",
        "    model.eval()\n",
        "    total_loss, total_correct = 0, 0\n",
        "    # WE USE THE METRICS IN THE VALIDATION\n",
        "    for x, y in validation_loader:\n",
        "        x, y = x.to(device), y.to(device)\n",
        "        output = model(x)\n",
        "        loss = criterion(output, y)\n",
        "        total_loss += loss.item()\n",
        "        total_correct += (output.argmax(1) == y).sum().item()\n",
        "\n",
        "    acc = total_correct / len(validation_loader.dataset)\n",
        "\n",
        "    if train_data:\n",
        "        train_acc = train_total_correct / len(train_loader.dataset)\n",
        "        return total_loss / len(validation_loader), acc, train_total_loss / len(train_loader), train_acc\n",
        "\n",
        "    return total_loss / len(validation_loader), acc\n"
      ],
      "metadata": {
        "id": "jDvkFGEj9m7B"
      },
      "id": "jDvkFGEj9m7B",
      "execution_count": 11,
      "outputs": []
    },
    {
      "cell_type": "code",
      "source": [
        "### MODEL TEST\n",
        "\n",
        "def model_test(model, test_loader, criterion):\n",
        "    model.eval()\n",
        "    total_loss, total_correct = 0, 0\n",
        "    for x, y in test_loader:\n",
        "            x, y = x.to(device), y.to(device)\n",
        "            output = model(x)\n",
        "            loss = criterion(output, y)\n",
        "            total_loss += loss.item()\n",
        "            total_correct += (output.argmax(1) == y).sum().item()\n",
        "\n",
        "    acc = total_correct / len(test_loader.dataset)\n",
        "\n",
        "    return total_loss / len(test_loader), acc"
      ],
      "metadata": {
        "id": "eY8RI33rApig"
      },
      "id": "eY8RI33rApig",
      "execution_count": 12,
      "outputs": []
    },
    {
      "cell_type": "markdown",
      "source": [
        "CNN w/out dropout. Only validation and test."
      ],
      "metadata": {
        "id": "K59v1_yAbrqz"
      },
      "id": "K59v1_yAbrqz"
    },
    {
      "cell_type": "code",
      "source": [
        "model = CNN().to(device)\n",
        "optimizer = optim.Adam(model.parameters(), lr=0.001)\n",
        "criterion = nn.CrossEntropyLoss()\n",
        "\n",
        "for epoch in range(10):\n",
        "    validation_loss, validation_acc = train(model, train_loader, val_loader, optimizer, criterion)\n",
        "    print(f\"Epoch {epoch+1} ON THE VALIDATION - Loss: {validation_loss:.4f}, Accuracy: {validation_acc*100:.2f}%\")\n",
        "test_loss, test_acc = model_test(model, test_loader, criterion)\n",
        "print(f\"TEST SET - Loss: {test_loss:.4f}, Accuracy: {test_acc*100:.2f}%\")"
      ],
      "metadata": {
        "id": "Jyi_xZWy9rnq",
        "outputId": "3f5b14e6-04dd-47df-9f9d-ac25428fdcae",
        "colab": {
          "base_uri": "https://localhost:8080/"
        }
      },
      "id": "Jyi_xZWy9rnq",
      "execution_count": 22,
      "outputs": [
        {
          "output_type": "stream",
          "name": "stdout",
          "text": [
            "Epoch 1 ON THE VALIDATION - Loss: 0.2373, Accuracy: 92.52%\n",
            "Epoch 2 ON THE VALIDATION - Loss: 0.1615, Accuracy: 95.10%\n",
            "Epoch 3 ON THE VALIDATION - Loss: 0.1336, Accuracy: 96.02%\n",
            "Epoch 4 ON THE VALIDATION - Loss: 0.1114, Accuracy: 96.71%\n",
            "Epoch 5 ON THE VALIDATION - Loss: 0.0957, Accuracy: 97.01%\n",
            "Epoch 6 ON THE VALIDATION - Loss: 0.1052, Accuracy: 96.90%\n",
            "Epoch 7 ON THE VALIDATION - Loss: 0.1009, Accuracy: 97.15%\n",
            "Epoch 8 ON THE VALIDATION - Loss: 0.0881, Accuracy: 97.48%\n",
            "Epoch 9 ON THE VALIDATION - Loss: 0.0819, Accuracy: 97.58%\n",
            "Epoch 10 ON THE VALIDATION - Loss: 0.0885, Accuracy: 97.57%\n",
            "TEST SET - Loss: 0.2314, Accuracy: 95.70%\n"
          ]
        }
      ]
    },
    {
      "cell_type": "markdown",
      "source": [
        "CNN w/out dropout. Train, validation and test."
      ],
      "metadata": {
        "id": "lU8JKFZpb5Tk"
      },
      "id": "lU8JKFZpb5Tk"
    },
    {
      "cell_type": "code",
      "source": [
        "# now we track also the train history\n",
        "model = CNN().to(device)\n",
        "optimizer = optim.Adam(model.parameters(), lr=0.001)\n",
        "criterion = nn.CrossEntropyLoss()\n",
        "\n",
        "train_history = []\n",
        "validation_history = []\n",
        "\n",
        "for epoch in range(10):\n",
        "    validation_loss, validation_acc, train_loss, train_acc = train(model, train_loader, val_loader, optimizer, criterion, train_data = True)\n",
        "    train_history.append(train_loss)\n",
        "    validation_history.append(validation_loss)\n",
        "    print(f\"Epoch {epoch+1} ON THE VALIDATION - Loss: {validation_loss:.4f}, Accuracy: {validation_acc*100:.2f}% | ON THE TRAINING - Loss: {train_loss:.4f}, Accuracy: {train_acc*100:.2f}% \")\n",
        "test_loss, test_acc = model_test(model, test_loader, criterion)\n",
        "print(f\"TEST SET - Loss: {test_loss:.4f}, Accuracy: {test_acc*100:.2f}%\")\n"
      ],
      "metadata": {
        "colab": {
          "base_uri": "https://localhost:8080/"
        },
        "id": "JJ_1XIDoZ65V",
        "outputId": "b364d544-a461-434a-e38c-47e0bbdfa059"
      },
      "id": "JJ_1XIDoZ65V",
      "execution_count": 18,
      "outputs": [
        {
          "output_type": "stream",
          "name": "stdout",
          "text": [
            "Epoch 1 ON THE VALIDATION - Loss: 0.2510, Accuracy: 92.15% | ON THE TRAINING - Loss: 0.4967, Accuracy: 83.89% \n",
            "Epoch 2 ON THE VALIDATION - Loss: 0.1505, Accuracy: 95.28% | ON THE TRAINING - Loss: 0.1788, Accuracy: 94.42% \n",
            "Epoch 3 ON THE VALIDATION - Loss: 0.1349, Accuracy: 95.78% | ON THE TRAINING - Loss: 0.1296, Accuracy: 95.95% \n",
            "Epoch 4 ON THE VALIDATION - Loss: 0.1202, Accuracy: 96.38% | ON THE TRAINING - Loss: 0.1013, Accuracy: 96.81% \n",
            "Epoch 5 ON THE VALIDATION - Loss: 0.0960, Accuracy: 97.10% | ON THE TRAINING - Loss: 0.0859, Accuracy: 97.23% \n",
            "Epoch 6 ON THE VALIDATION - Loss: 0.0908, Accuracy: 97.27% | ON THE TRAINING - Loss: 0.0780, Accuracy: 97.52% \n",
            "Epoch 7 ON THE VALIDATION - Loss: 0.0935, Accuracy: 97.17% | ON THE TRAINING - Loss: 0.0676, Accuracy: 97.82% \n",
            "Epoch 8 ON THE VALIDATION - Loss: 0.0880, Accuracy: 97.27% | ON THE TRAINING - Loss: 0.0650, Accuracy: 97.91% \n",
            "Epoch 9 ON THE VALIDATION - Loss: 0.0863, Accuracy: 97.46% | ON THE TRAINING - Loss: 0.0587, Accuracy: 98.13% \n",
            "Epoch 10 ON THE VALIDATION - Loss: 0.0765, Accuracy: 97.87% | ON THE TRAINING - Loss: 0.0554, Accuracy: 98.22% \n",
            "TEST SET - Loss: 0.2210, Accuracy: 95.98%\n"
          ]
        }
      ]
    },
    {
      "cell_type": "code",
      "source": [
        "from matplotlib import pyplot as plt\n",
        "\n",
        "plt.plot(train_history, c = \"red\", label = \"training loss\")\n",
        "plt.plot(validation_history, c = \"blue\", label = \"validation loss\")\n",
        "plt.legend()\n",
        "plt.title(\"Train against validation loss over epochs\")\n",
        "plt.ylabel(\"Loss\")\n",
        "plt.xlabel(\"Epochs\")\n",
        "plt.show()"
      ],
      "metadata": {
        "colab": {
          "base_uri": "https://localhost:8080/",
          "height": 472
        },
        "id": "zCVlk49j640I",
        "outputId": "b5b6b0a6-cd57-4113-9043-484154e36106"
      },
      "id": "zCVlk49j640I",
      "execution_count": 19,
      "outputs": [
        {
          "output_type": "display_data",
          "data": {
            "text/plain": [
              "<Figure size 640x480 with 1 Axes>"
            ],
            "image/png": "[encoded data removed]"
          },
          "metadata": {}
        }
      ]
    },
    {
      "cell_type": "markdown",
      "source": [
        "CNN with dropout. Only validation and test."
      ],
      "metadata": {
        "id": "P9v1cYsRb9l8"
      },
      "id": "P9v1cYsRb9l8"
    },
    {
      "cell_type": "code",
      "source": [
        "model = CNN_dropout().to(device)\n",
        "optimizer = optim.Adam(model.parameters(), lr=0.001)\n",
        "criterion = nn.CrossEntropyLoss()\n",
        "\n",
        "for epoch in range(10):\n",
        "    validation_loss, validation_acc = train(model, train_loader, val_loader, optimizer, criterion)\n",
        "    print(f\"Epoch {epoch+1} ON THE VALIDATION - Loss: {validation_loss:.4f}, Accuracy: {validation_acc*100:.2f}%\")\n",
        "test_loss, test_acc = model_test(model, test_loader, criterion)\n",
        "print(f\"TEST SET - Loss: {test_loss:.4f}, Accuracy: {test_acc*100:.2f}%\")"
      ],
      "metadata": {
        "colab": {
          "base_uri": "https://localhost:8080/"
        },
        "id": "PH9A_4Q9cBGr",
        "outputId": "54710795-6ff2-4e71-daaf-25725d33e735"
      },
      "id": "PH9A_4Q9cBGr",
      "execution_count": 29,
      "outputs": [
        {
          "output_type": "stream",
          "name": "stdout",
          "text": [
            "Epoch 1 ON THE VALIDATION - Loss: 0.3066, Accuracy: 90.36%\n",
            "Epoch 2 ON THE VALIDATION - Loss: 0.1936, Accuracy: 94.24%\n",
            "Epoch 3 ON THE VALIDATION - Loss: 0.1634, Accuracy: 95.09%\n",
            "Epoch 4 ON THE VALIDATION - Loss: 0.1355, Accuracy: 95.97%\n",
            "Epoch 5 ON THE VALIDATION - Loss: 0.1208, Accuracy: 96.28%\n",
            "Epoch 6 ON THE VALIDATION - Loss: 0.1188, Accuracy: 96.38%\n",
            "Epoch 7 ON THE VALIDATION - Loss: 0.1113, Accuracy: 96.62%\n",
            "Epoch 8 ON THE VALIDATION - Loss: 0.1012, Accuracy: 96.97%\n",
            "Epoch 9 ON THE VALIDATION - Loss: 0.0936, Accuracy: 97.18%\n",
            "Epoch 10 ON THE VALIDATION - Loss: 0.0879, Accuracy: 97.24%\n",
            "TEST SET - Loss: 0.1537, Accuracy: 95.84%\n"
          ]
        }
      ]
    },
    {
      "cell_type": "markdown",
      "source": [
        "CNN with dropout. Train, validation and test."
      ],
      "metadata": {
        "id": "MxafiE9ZcDUp"
      },
      "id": "MxafiE9ZcDUp"
    },
    {
      "cell_type": "code",
      "source": [
        "model = CNN_dropout().to(device)\n",
        "optimizer = optim.Adam(model.parameters(), lr=0.001)\n",
        "criterion = nn.CrossEntropyLoss()\n",
        "\n",
        "train_history = []\n",
        "validation_history = []\n",
        "\n",
        "for epoch in range(10):\n",
        "    validation_loss, validation_acc, train_loss, train_acc = train(model, train_loader, val_loader, optimizer, criterion, train_data = True)\n",
        "    train_history.append(train_loss)\n",
        "    validation_history.append(validation_loss)\n",
        "    print(f\"Epoch {epoch+1} ON THE VALIDATION - Loss: {validation_loss:.4f}, Accuracy: {validation_acc*100:.2f}% | ON THE TRAINING - Loss: {train_loss:.4f}, Accuracy: {train_acc*100:.2f}% \")\n",
        "test_loss, test_acc = model_test(model, test_loader, criterion)\n",
        "print(f\"TEST SET - Loss: {test_loss:.4f}, Accuracy: {test_acc*100:.2f}%\")"
      ],
      "metadata": {
        "colab": {
          "base_uri": "https://localhost:8080/"
        },
        "id": "5uvyeL2WcJse",
        "outputId": "b4f9c0cf-5750-4385-f19f-5d12497471ed"
      },
      "id": "5uvyeL2WcJse",
      "execution_count": 20,
      "outputs": [
        {
          "output_type": "stream",
          "name": "stdout",
          "text": [
            "Epoch 1 ON THE VALIDATION - Loss: 0.2839, Accuracy: 91.62% | ON THE TRAINING - Loss: 0.6964, Accuracy: 76.98% \n",
            "Epoch 2 ON THE VALIDATION - Loss: 0.1900, Accuracy: 94.27% | ON THE TRAINING - Loss: 0.3214, Accuracy: 89.77% \n",
            "Epoch 3 ON THE VALIDATION - Loss: 0.1423, Accuracy: 95.66% | ON THE TRAINING - Loss: 0.2502, Accuracy: 91.96% \n",
            "Epoch 4 ON THE VALIDATION - Loss: 0.1308, Accuracy: 96.07% | ON THE TRAINING - Loss: 0.2201, Accuracy: 93.07% \n",
            "Epoch 5 ON THE VALIDATION - Loss: 0.1259, Accuracy: 96.16% | ON THE TRAINING - Loss: 0.1957, Accuracy: 93.75% \n",
            "Epoch 6 ON THE VALIDATION - Loss: 0.1159, Accuracy: 96.41% | ON THE TRAINING - Loss: 0.1846, Accuracy: 94.13% \n",
            "Epoch 7 ON THE VALIDATION - Loss: 0.1084, Accuracy: 96.73% | ON THE TRAINING - Loss: 0.1742, Accuracy: 94.49% \n",
            "Epoch 8 ON THE VALIDATION - Loss: 0.1068, Accuracy: 96.63% | ON THE TRAINING - Loss: 0.1681, Accuracy: 94.72% \n",
            "Epoch 9 ON THE VALIDATION - Loss: 0.0963, Accuracy: 96.97% | ON THE TRAINING - Loss: 0.1625, Accuracy: 94.92% \n",
            "Epoch 10 ON THE VALIDATION - Loss: 0.0917, Accuracy: 97.23% | ON THE TRAINING - Loss: 0.1549, Accuracy: 95.04% \n",
            "TEST SET - Loss: 0.1500, Accuracy: 96.25%\n"
          ]
        }
      ]
    },
    {
      "cell_type": "code",
      "source": [
        "from matplotlib import pyplot as plt\n",
        "\n",
        "plt.plot(train_history, c = \"red\", label = \"training loss\")\n",
        "plt.plot(validation_history, c = \"blue\", label = \"validation loss\")\n",
        "plt.legend()\n",
        "plt.title(\"Train against validation loss over epochs\")\n",
        "plt.ylabel(\"Loss\")\n",
        "plt.xlabel(\"Epochs\")\n",
        "plt.show()"
      ],
      "metadata": {
        "colab": {
          "base_uri": "https://localhost:8080/",
          "height": 472
        },
        "id": "VY_HWRR67lLU",
        "outputId": "6c914c4a-8a53-40e9-f3be-caff314c3e05"
      },
      "id": "VY_HWRR67lLU",
      "execution_count": 21,
      "outputs": [
        {
          "output_type": "display_data",
          "data": {
            "text/plain": [
              "<Figure size 640x480 with 1 Axes>"
            ],
            "image/png": "[encoded data removed]"
          },
          "metadata": {}
        }
      ]
    },
    {
      "cell_type": "markdown",
      "source": [
        "FCNN. Only validation and test."
      ],
      "metadata": {
        "id": "MS4nWOcrcMxM"
      },
      "id": "MS4nWOcrcMxM"
    },
    {
      "cell_type": "code",
      "source": [
        "model = FCNN().to(device)\n",
        "optimizer = optim.Adam(model.parameters(), lr=0.001)\n",
        "criterion = nn.CrossEntropyLoss()\n",
        "\n",
        "for epoch in range(10):\n",
        "    validation_loss, validation_acc = train(model, train_loader, val_loader, optimizer, criterion)\n",
        "    print(f\"Epoch {epoch+1} ON THE VALIDATION - Loss: {validation_loss:.4f}, Accuracy: {validation_acc*100:.2f}%\")\n",
        "test_loss, test_acc = model_test(model, test_loader, criterion)\n",
        "print(f\"TEST SET - Loss: {test_loss:.4f}, Accuracy: {test_acc*100:.2f}%\")"
      ],
      "metadata": {
        "id": "xRKDJkC3-bI6",
        "outputId": "ec719658-6018-4a5d-acaa-f5abb546ef75",
        "colab": {
          "base_uri": "https://localhost:8080/"
        }
      },
      "id": "xRKDJkC3-bI6",
      "execution_count": 14,
      "outputs": [
        {
          "output_type": "stream",
          "name": "stdout",
          "text": [
            "Epoch 1 ON THE VALIDATION - Loss: 0.4784, Accuracy: 84.91%\n",
            "Epoch 2 ON THE VALIDATION - Loss: 0.4282, Accuracy: 86.99%\n",
            "Epoch 3 ON THE VALIDATION - Loss: 0.3281, Accuracy: 89.95%\n",
            "Epoch 4 ON THE VALIDATION - Loss: 0.3210, Accuracy: 90.04%\n",
            "Epoch 5 ON THE VALIDATION - Loss: 0.3048, Accuracy: 90.77%\n",
            "Epoch 6 ON THE VALIDATION - Loss: 0.2903, Accuracy: 91.33%\n",
            "Epoch 7 ON THE VALIDATION - Loss: 0.2765, Accuracy: 91.85%\n",
            "Epoch 8 ON THE VALIDATION - Loss: 0.2552, Accuracy: 92.57%\n",
            "Epoch 9 ON THE VALIDATION - Loss: 0.2701, Accuracy: 92.18%\n",
            "Epoch 10 ON THE VALIDATION - Loss: 0.2638, Accuracy: 92.34%\n",
            "TEST SET - Loss: 0.4682, Accuracy: 89.38%\n"
          ]
        }
      ]
    },
    {
      "cell_type": "code",
      "source": [
        "model = FCNN_dropout().to(device)\n",
        "optimizer = optim.Adam(model.parameters(), lr=0.001)\n",
        "criterion = nn.CrossEntropyLoss()\n",
        "\n",
        "for epoch in range(10):\n",
        "    validation_loss, validation_acc = train(model, train_loader, val_loader, optimizer, criterion)\n",
        "    print(f\"Epoch {epoch+1} ON THE VALIDATION - Loss: {validation_loss:.4f}, Accuracy: {validation_acc*100:.2f}%\")\n",
        "test_loss, test_acc = model_test(model, test_loader, criterion)\n",
        "print(f\"TEST SET - Loss: {test_loss:.4f}, Accuracy: {test_acc*100:.2f}%\")"
      ],
      "metadata": {
        "colab": {
          "base_uri": "https://localhost:8080/"
        },
        "id": "XbNUs2hp4Y5Q",
        "outputId": "4c0e1ade-e5ab-4b00-b2ae-b7d363c2ead4"
      },
      "id": "XbNUs2hp4Y5Q",
      "execution_count": 17,
      "outputs": [
        {
          "output_type": "stream",
          "name": "stdout",
          "text": [
            "Epoch 1 ON THE VALIDATION - Loss: 0.7625, Accuracy: 76.54%\n",
            "Epoch 2 ON THE VALIDATION - Loss: 0.6304, Accuracy: 80.66%\n",
            "Epoch 3 ON THE VALIDATION - Loss: 0.5743, Accuracy: 82.69%\n",
            "Epoch 4 ON THE VALIDATION - Loss: 0.5358, Accuracy: 83.55%\n",
            "Epoch 5 ON THE VALIDATION - Loss: 0.5159, Accuracy: 84.68%\n",
            "Epoch 6 ON THE VALIDATION - Loss: 0.4977, Accuracy: 85.05%\n",
            "Epoch 7 ON THE VALIDATION - Loss: 0.4823, Accuracy: 85.18%\n",
            "Epoch 8 ON THE VALIDATION - Loss: 0.4620, Accuracy: 86.18%\n",
            "Epoch 9 ON THE VALIDATION - Loss: 0.4549, Accuracy: 86.69%\n",
            "Epoch 10 ON THE VALIDATION - Loss: 0.4414, Accuracy: 86.88%\n",
            "TEST SET - Loss: 0.5071, Accuracy: 84.51%\n"
          ]
        }
      ]
    }
  ],
  "metadata": {
    "colab": {
      "provenance": [],
      "gpuType": "T4"
    },
    "kernelspec": {
      "display_name": "Python 3",
      "name": "python3"
    },
    "language_info": {
      "codemirror_mode": {
        "name": "ipython",
        "version": 3
      },
      "file_extension": ".py",
      "mimetype": "text/x-python",
      "name": "python",
      "nbconvert_exporter": "python",
      "pygments_lexer": "ipython3",
      "version": "3.7.10"
    },
    "accelerator": "GPU"
  },
  "nbformat": 4,
  "nbformat_minor": 5
}