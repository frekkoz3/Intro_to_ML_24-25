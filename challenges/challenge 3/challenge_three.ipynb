{
  "cells": [
    {
      "cell_type": "markdown",
      "id": "k-JIRqBlrumk",
      "metadata": {
        "id": "k-JIRqBlrumk"
      },
      "source": [
        "# Challenge 3: Artifical Neural Networks\n",
        "\n",
        "<a target=\"_blank\" href=\"https://colab.research.google.com/github/LucaPennella/Intro_to_ML_23-24/blob/main/challenges/challenge-three.ipynb\">\n",
        "  <img src=\"https://colab.research.google.com/assets/colab-badge.svg\" alt=\"Open In Colab\"/>\n",
        "</a>\n",
        "\n",
        "\n",
        "Using Fully Connected Neural Networks and Convolutional Neural Networks, perform the following tasks on [this data set](https://pytorch.org/vision/stable/generated/torchvision.datasets.KMNIST.html#torchvision.datasets.KMNIST).\n",
        "1. Data exploration.\n",
        "2. For each architecture, tune the number of the hidden layers ($\\le 3$), the optimizer, and some hyperparameters of your choice. How many tries to do is up to your discretion.\n",
        "3. Summarise your results in a table and comment on them in the report.\n",
        "4. For a model (not necessarily the best performing one), plot training loss vs testing loss and training accuracy vs testing accuracy, and comment on what you see."
      ]
    },
    {
      "cell_type": "code",
      "source": [
        "import torch"
      ],
      "metadata": {
        "id": "8ePXBGr92uT8"
      },
      "id": "8ePXBGr92uT8",
      "execution_count": 4,
      "outputs": []
    },
    {
      "cell_type": "code",
      "source": [
        "import torch\n",
        "from torchvision import datasets, transforms\n",
        "from torch.utils.data import DataLoader\n",
        "\n",
        "# Define transformation\n",
        "transform = transforms.Compose([\n",
        "    transforms.ToTensor(),\n",
        "    transforms.Normalize((0.5,), (0.5,))\n",
        "])\n",
        "\n",
        "# Load KMNIST training dataset\n",
        "train_dataset = datasets.KMNIST(root='./data', train=True, download=True, transform=transform)\n",
        "\n",
        "# Load KMNIST test dataset\n",
        "test_dataset = datasets.KMNIST(root='./data', train=False, download=True, transform=transform)\n",
        "\n",
        "# Create data loaders\n",
        "train_loader = DataLoader(train_dataset, batch_size=64, shuffle=True)\n",
        "test_loader = DataLoader(test_dataset, batch_size=64, shuffle=False)\n",
        "\n",
        "# Example: Get a batch of data\n",
        "images, labels = next(iter(train_loader))\n",
        "print(f'Batch shape: {images.shape}, Labels: {labels[:10]}')\n"
      ],
      "metadata": {
        "id": "ae69bVm43Tre",
        "outputId": "384ccd4c-cd70-43d2-f6b4-25930b42094d",
        "colab": {
          "base_uri": "https://localhost:8080/"
        }
      },
      "id": "ae69bVm43Tre",
      "execution_count": 6,
      "outputs": [
        {
          "output_type": "stream",
          "name": "stderr",
          "text": [
            "100%|██████████| 18.2M/18.2M [00:26<00:00, 686kB/s]\n",
            "100%|██████████| 29.5k/29.5k [00:00<00:00, 133kB/s]\n",
            "100%|██████████| 3.04M/3.04M [00:04<00:00, 680kB/s]\n",
            "100%|██████████| 5.12k/5.12k [00:00<00:00, 10.4MB/s]"
          ]
        },
        {
          "output_type": "stream",
          "name": "stdout",
          "text": [
            "Batch shape: torch.Size([64, 1, 28, 28]), Labels: tensor([0, 4, 7, 8, 5, 4, 0, 6, 5, 8])\n"
          ]
        },
        {
          "output_type": "stream",
          "name": "stderr",
          "text": [
            "\n"
          ]
        }
      ]
    },
    {
      "cell_type": "code",
      "source": [
        "from torch.utils.data import random_split\n",
        "\n",
        "full_train_dataset = train_dataset\n",
        "# Define split sizes (e.g. 90% train, 10% val)\n",
        "train_size = int(0.9 * len(full_train_dataset))\n",
        "val_size = len(full_train_dataset) - train_size\n",
        "\n",
        "# Split the dataset\n",
        "train_dataset, val_dataset = random_split(full_train_dataset, [train_size, val_size])\n",
        "\n",
        "# Create data loaders\n",
        "train_loader = DataLoader(train_dataset, batch_size=64, shuffle=True)\n",
        "val_loader = DataLoader(val_dataset, batch_size=64, shuffle=False)"
      ],
      "metadata": {
        "id": "_EASJHPp4JnB"
      },
      "id": "_EASJHPp4JnB",
      "execution_count": 8,
      "outputs": []
    },
    {
      "cell_type": "code",
      "source": [
        "import matplotlib.pyplot as plt\n",
        "\n",
        "fig, axes = plt.subplots(2, 5, figsize=(10, 4))\n",
        "head = [train_dataset[i] for i in range (10)]\n",
        "images = [h[0] for h in head]\n",
        "labels = [h[1] for h in head]\n",
        "for i, ax in enumerate(axes.flat):\n",
        "  img = images[i].squeeze(0)\n",
        "  ax.imshow(img, cmap='gray')\n",
        "  ax.set_title(f\"Label: {labels[i]}\")\n",
        "  ax.axis('off')\n",
        "plt.tight_layout()\n",
        "plt.show()"
      ],
      "metadata": {
        "id": "FdgmW7qC4kyi",
        "outputId": "c50703df-0b1b-4a1a-d37c-c4b94e1d088d",
        "colab": {
          "base_uri": "https://localhost:8080/",
          "height": 410
        }
      },
      "id": "FdgmW7qC4kyi",
      "execution_count": 25,
      "outputs": [
        {
          "output_type": "display_data",
          "data": {
            "text/plain": [
              "<Figure size 1000x400 with 10 Axes>"
            ],
            "image/png": "[encoded data removed]"
          },
          "metadata": {}
        }
      ]
    },
    {
      "cell_type": "code",
      "source": [
        "# Set device\n",
        "device = torch.device('cuda' if torch.cuda.is_available() else 'cpu')"
      ],
      "metadata": {
        "id": "DU7-8I317vqb"
      },
      "id": "DU7-8I317vqb",
      "execution_count": 26,
      "outputs": []
    },
    {
      "cell_type": "code",
      "source": [
        "import torch.nn as nn\n",
        "import torch.optim as optim"
      ],
      "metadata": {
        "id": "IbzVfHIv7_ud"
      },
      "id": "IbzVfHIv7_ud",
      "execution_count": 27,
      "outputs": []
    },
    {
      "cell_type": "markdown",
      "source": [
        "### FULLY CONNECTED ARCHITECTURE"
      ],
      "metadata": {
        "id": "Nn10qJdW-sbW"
      },
      "id": "Nn10qJdW-sbW"
    },
    {
      "cell_type": "code",
      "source": [
        "class FCNN(nn.Module):\n",
        "    def __init__(self):\n",
        "        super(FCNN, self).__init__()\n",
        "        self.flatten = nn.Flatten()\n",
        "        self.fc = nn.Sequential(\n",
        "            nn.Linear(28*28, 256),\n",
        "            nn.ReLU(),\n",
        "            nn.Linear(256, 128),\n",
        "            nn.ReLU(),\n",
        "            nn.Linear(128, 64),\n",
        "            nn.ReLU(),\n",
        "            nn.Linear(64, 10)\n",
        "        )\n",
        "\n",
        "    def forward(self, x):\n",
        "        x = self.flatten(x)\n",
        "        return self.fc(x)"
      ],
      "metadata": {
        "id": "uf-piqMt8Go3"
      },
      "id": "uf-piqMt8Go3",
      "execution_count": 28,
      "outputs": []
    },
    {
      "cell_type": "markdown",
      "source": [
        "### CONVOLUTIONAL ARCHITECTURE\n"
      ],
      "metadata": {
        "id": "qd0ehE-J-8Bj"
      },
      "id": "qd0ehE-J-8Bj"
    },
    {
      "cell_type": "code",
      "source": [
        "class CNN(nn.Module):\n",
        "    def __init__(self):\n",
        "        super(CNN, self).__init__()\n",
        "        self.conv_layers = nn.Sequential(\n",
        "            nn.Conv2d(1, 16, kernel_size=3, padding=1),\n",
        "            nn.ReLU(),\n",
        "            nn.MaxPool2d(2),  # 14x14\n",
        "\n",
        "            nn.Conv2d(16, 32, kernel_size=3, padding=1),\n",
        "            nn.ReLU(),\n",
        "            nn.MaxPool2d(2),  # 7x7\n",
        "\n",
        "            nn.Conv2d(32, 64, kernel_size=3, padding = 1),\n",
        "            nn.ReLU(),\n",
        "            nn.MaxPool2d(2) # 4 x 4\n",
        "        )\n",
        "        self.fc_layers = nn.Sequential(\n",
        "            nn.Flatten(),\n",
        "            nn.Linear(64 * 3 * 3, 128),\n",
        "            nn.ReLU(),\n",
        "            nn.Linear(128, 10)\n",
        "        )\n",
        "\n",
        "    def forward(self, x):\n",
        "        x = self.conv_layers(x)\n",
        "        return self.fc_layers(x)\n"
      ],
      "metadata": {
        "id": "AsdVauRU8F_j"
      },
      "id": "AsdVauRU8F_j",
      "execution_count": 43,
      "outputs": []
    },
    {
      "cell_type": "markdown",
      "source": [
        "### TRAINING CYCLE"
      ],
      "metadata": {
        "id": "bT9jQZb8_BIc"
      },
      "id": "bT9jQZb8_BIc"
    },
    {
      "cell_type": "code",
      "source": [
        "def train(model, train_loader, validation_loader, optimizer, criterion):\n",
        "    model.train()\n",
        "    for x, y in train_loader:\n",
        "        x, y = x.to(device), y.to(device)\n",
        "\n",
        "        optimizer.zero_grad()\n",
        "        output = model(x)\n",
        "        loss = criterion(output, y)\n",
        "        loss.backward()\n",
        "        optimizer.step()\n",
        "\n",
        "        #total_loss += loss.item()\n",
        "        #total_correct += (output.argmax(1) == y).sum().item()\n",
        "\n",
        "    total_loss, total_correct = 0, 0\n",
        "    # WE USE THE METRICS IN THE VALIDATION\n",
        "    for x, y in validation_loader:\n",
        "        x, y = x.to(device), y.to(device)\n",
        "        output = model(x)\n",
        "        loss = criterion(output, y)\n",
        "        total_loss += loss.item()\n",
        "        total_correct += (output.argmax(1) == y).sum().item()\n",
        "\n",
        "    acc = total_correct / len(validation_loader.dataset)\n",
        "\n",
        "    return total_loss / len(validation_loader), acc\n"
      ],
      "metadata": {
        "id": "jDvkFGEj9m7B"
      },
      "id": "jDvkFGEj9m7B",
      "execution_count": 34,
      "outputs": []
    },
    {
      "cell_type": "code",
      "source": [
        "### MODEL TEST\n",
        "\n",
        "def model_test(model, test_loader, criterion):\n",
        "\n",
        "  total_loss, total_correct = 0, 0\n",
        "  for x, y in test_loader:\n",
        "        x, y = x.to(device), y.to(device)\n",
        "        output = model(x)\n",
        "        loss = criterion(output, y)\n",
        "        total_loss += loss.item()\n",
        "        total_correct += (output.argmax(1) == y).sum().item()\n",
        "\n",
        "  acc = total_correct / len(test_loader.dataset)\n",
        "\n",
        "  return total_loss / len(test_loader), acc"
      ],
      "metadata": {
        "id": "eY8RI33rApig"
      },
      "id": "eY8RI33rApig",
      "execution_count": 37,
      "outputs": []
    },
    {
      "cell_type": "code",
      "source": [
        "model = CNN().to(device)\n",
        "optimizer = optim.Adam(model.parameters(), lr=0.001)\n",
        "criterion = nn.CrossEntropyLoss()\n",
        "\n",
        "for epoch in range(5):\n",
        "    validation_loss, validation_acc = train(model, train_loader, val_loader, optimizer, criterion)\n",
        "    print(f\"Epoch {epoch+1} ON THE VALIDATION - Loss: {validation_loss:.4f}, Accuracy: {validation_acc*100:.2f}%\")\n",
        "test_loss, test_acc = model_test(model, test_loader, criterion)\n",
        "print(f\"TEST SET - Loss: {test_loss:.4f}, Accuracy: {test_acc*100:.2f}%\")"
      ],
      "metadata": {
        "id": "Jyi_xZWy9rnq",
        "outputId": "748cb777-d38b-4f93-f727-554a84286aa3",
        "colab": {
          "base_uri": "https://localhost:8080/"
        }
      },
      "id": "Jyi_xZWy9rnq",
      "execution_count": 44,
      "outputs": [
        {
          "output_type": "stream",
          "name": "stdout",
          "text": [
            "Epoch 1 ON THE VALIDATION - Loss: 0.1094, Accuracy: 95.24%\n",
            "Epoch 2 ON THE VALIDATION - Loss: 0.0430, Accuracy: 97.17%\n",
            "Epoch 3 ON THE VALIDATION - Loss: 0.0104, Accuracy: 97.33%\n",
            "Epoch 4 ON THE VALIDATION - Loss: 0.0872, Accuracy: 97.85%\n",
            "Epoch 5 ON THE VALIDATION - Loss: 0.0874, Accuracy: 97.57%\n",
            "TEST SET - Loss: 0.2237, Accuracy: 94.42%\n"
          ]
        }
      ]
    },
    {
      "cell_type": "code",
      "source": [
        "model = FCNN().to(device)\n",
        "optimizer = optim.Adam(model.parameters(), lr=0.001)\n",
        "criterion = nn.CrossEntropyLoss()\n",
        "\n",
        "for epoch in range(5):\n",
        "    validation_loss, validation_acc = train(model, train_loader, val_loader, optimizer, criterion)\n",
        "    print(f\"Epoch {epoch+1} ON THE VALIDATION - Loss: {validation_loss:.4f}, Accuracy: {validation_acc*100:.2f}%\")\n",
        "test_loss, test_acc = model_test(model, test_loader, criterion)\n",
        "print(f\"TEST SET - Loss: {test_loss:.4f}, Accuracy: {test_acc*100:.2f}%\")"
      ],
      "metadata": {
        "id": "xRKDJkC3-bI6",
        "outputId": "12dedab1-c0fe-4cf8-ac0f-6d5a42b705c1",
        "colab": {
          "base_uri": "https://localhost:8080/"
        }
      },
      "id": "xRKDJkC3-bI6",
      "execution_count": 45,
      "outputs": [
        {
          "output_type": "stream",
          "name": "stdout",
          "text": [
            "Epoch 1 ON THE VALIDATION - Loss: 0.1181, Accuracy: 90.15%\n",
            "Epoch 2 ON THE VALIDATION - Loss: 0.0769, Accuracy: 92.65%\n",
            "Epoch 3 ON THE VALIDATION - Loss: 0.1238, Accuracy: 94.26%\n",
            "Epoch 4 ON THE VALIDATION - Loss: 0.4588, Accuracy: 93.89%\n",
            "Epoch 5 ON THE VALIDATION - Loss: 0.0421, Accuracy: 94.19%\n",
            "TEST SET - Loss: 0.5125, Accuracy: 86.75%\n"
          ]
        }
      ]
    }
  ],
  "metadata": {
    "colab": {
      "provenance": [],
      "gpuType": "T4"
    },
    "kernelspec": {
      "display_name": "Python 3",
      "name": "python3"
    },
    "language_info": {
      "codemirror_mode": {
        "name": "ipython",
        "version": 3
      },
      "file_extension": ".py",
      "mimetype": "text/x-python",
      "name": "python",
      "nbconvert_exporter": "python",
      "pygments_lexer": "ipython3",
      "version": "3.7.10"
    },
    "accelerator": "GPU"
  },
  "nbformat": 4,
  "nbformat_minor": 5
}